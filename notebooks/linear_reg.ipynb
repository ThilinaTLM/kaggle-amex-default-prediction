{
 "cells": [
  {
   "attachments": {},
   "cell_type": "markdown",
   "metadata": {},
   "source": [
    "# Setup"
   ]
  },
  {
   "cell_type": "code",
   "execution_count": 2,
   "metadata": {},
   "outputs": [
    {
     "name": "stdout",
     "output_type": "stream",
     "text": [
      "/content/gdrive/Shareddrives/GitRepos/kaggle-amex-default-prediction\n"
     ]
    }
   ],
   "source": [
    "%cd /content/gdrive/Shareddrives/GitRepos/kaggle-amex-default-prediction"
   ]
  },
  {
   "cell_type": "code",
   "execution_count": 3,
   "metadata": {},
   "outputs": [],
   "source": [
    "import pandas as pd\n",
    "import numpy as np\n",
    "import seaborn as sns\n",
    "import matplotlib.pyplot as plt"
   ]
  },
  {
   "cell_type": "code",
   "execution_count": 4,
   "metadata": {},
   "outputs": [],
   "source": [
    "from utils.dataset import Dataset"
   ]
  },
  {
   "cell_type": "code",
   "execution_count": 5,
   "metadata": {},
   "outputs": [],
   "source": [
    "dataset = Dataset(\"./data\")"
   ]
  },
  {
   "cell_type": "code",
   "execution_count": 6,
   "metadata": {},
   "outputs": [],
   "source": [
    "train_data = dataset.train_data()"
   ]
  },
  {
   "attachments": {},
   "cell_type": "markdown",
   "metadata": {},
   "source": [
    "# Preprocesss"
   ]
  },
  {
   "cell_type": "code",
   "execution_count": 22,
   "metadata": {},
   "outputs": [],
   "source": [
    "redundant_columns = ['customer_ID']\n",
    "all_columns = list(set(train_data.columns) - set(redundant_columns))\n",
    "\n",
    "labels = ['target']\n",
    "features = list(set(all_columns) - set(redundant_columns) - set(labels))"
   ]
  },
  {
   "cell_type": "code",
   "execution_count": 28,
   "metadata": {},
   "outputs": [
    {
     "data": {
      "text/plain": [
       "{CategoricalDtype(categories=['CL', 'CO', 'CR', 'XL', 'XM', 'XZ'], ordered=False),\n",
       " CategoricalDtype(categories=[1.0, 2.0, 3.0, 4.0, 5.0, 6.0, 7.0], ordered=False),\n",
       " CategoricalDtype(categories=[0.0, 1.0, 2.0], ordered=False),\n",
       " CategoricalDtype(categories=[-1.0, 1.0, 2.0, 3.0, 4.0, 5.0, 6.0], ordered=False),\n",
       " CategoricalDtype(categories=[-1.0, 0.0, 1.0], ordered=False),\n",
       " CategoricalDtype(categories=['', '-1', 'O', 'R', 'U'], ordered=False),\n",
       " CategoricalDtype(categories=[0.0, 1.0], ordered=False),\n",
       " CategoricalDtype(categories=[0.0, 1.0, 2.0, 3.0, 4.0, 5.0, 6.0], ordered=False),\n",
       " dtype('<M8[ns]'),\n",
       " dtype('float16'),\n",
       " dtype('int64'),\n",
       " dtype('O')}"
      ]
     },
     "execution_count": 28,
     "metadata": {},
     "output_type": "execute_result"
    }
   ],
   "source": [
    "set(train_data.dtypes)"
   ]
  }
 ],
 "metadata": {
  "kernelspec": {
   "display_name": "Python 3",
   "language": "python",
   "name": "python3"
  },
  "language_info": {
   "codemirror_mode": {
    "name": "ipython",
    "version": 3
   },
   "file_extension": ".py",
   "mimetype": "text/x-python",
   "name": "python",
   "nbconvert_exporter": "python",
   "pygments_lexer": "ipython3",
   "version": "3.8.16"
  },
  "orig_nbformat": 4,
  "vscode": {
   "interpreter": {
    "hash": "31f2aee4e71d21fbe5cf8b01ff0e069b9275f58929596ceb00d14d90e3e16cd6"
   }
  }
 },
 "nbformat": 4,
 "nbformat_minor": 2
}
